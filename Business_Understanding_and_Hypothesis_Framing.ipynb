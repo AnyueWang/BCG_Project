{
  "nbformat": 4,
  "nbformat_minor": 0,
  "metadata": {
    "colab": {
      "provenance": [],
      "authorship_tag": "ABX9TyMCJyO3dEdqoZ15YVmFmAAP",
      "include_colab_link": true
    },
    "kernelspec": {
      "name": "python3",
      "display_name": "Python 3"
    },
    "language_info": {
      "name": "python"
    }
  },
  "cells": [
    {
      "cell_type": "markdown",
      "metadata": {
        "id": "view-in-github",
        "colab_type": "text"
      },
      "source": [
        "<a href=\"https://colab.research.google.com/github/AnyueWang/BCG_Project/blob/main/Business_Understanding_and_Hypothesis_Framing.ipynb\" target=\"_parent\"><img src=\"https://colab.research.google.com/assets/colab-badge.svg\" alt=\"Open In Colab\"/></a>"
      ]
    },
    {
      "cell_type": "markdown",
      "source": [
        "# Business Understanding & Hypothesis Framing\n"
      ],
      "metadata": {
        "id": "9FxdxRnj75Uc"
      }
    },
    {
      "cell_type": "markdown",
      "source": [
        "Context and Background: \n",
        "- **Client:** A major gas and electricity utility which supplies to corporate, SME (Small & Medium Enterprise), and residential customers.\n",
        "- **Problem:** Significant churn problem, driven by power-liberalization of the energy market in Europe, is largest in the *SME* segment.\n"
      ],
      "metadata": {
        "id": "HhqNrOvQ8yJD"
      }
    },
    {
      "cell_type": "markdown",
      "source": [
        "Requirements:\n",
        "- **Target:** Use a predictive model to predict customers likely to churn.\n",
        "- **Client's Hypothesis:** Churn is driven by customer price sensitivity.\n",
        "- **Potential Strategy:** Offering customers at high propensity to churn a 20% discount."
      ],
      "metadata": {
        "id": "XUq_nfP19amz"
      }
    },
    {
      "cell_type": "markdown",
      "source": [
        "Problems:\n",
        "1. Does customer price sensitivity influence whether the customers' churn? If yes, to what extent the influence is?\n",
        "2. Are there any other factors that also affect customers' churn?\n",
        "3. What is the relationship between customers' churn and those factors?\n",
        "4. ..."
      ],
      "metadata": {
        "id": "tTnNL_wxBlY3"
      }
    },
    {
      "cell_type": "markdown",
      "source": [
        "Potential Factors Affecting Customers' Churn:\n",
        "\n",
        "- Price of energy, e.g., gas, electricity, etc.\n",
        "- Service price that the SMEs paid.\n",
        "- Contract durations of the SMEs.\n",
        "- Average service prices that other energy utility companies might provide.\n",
        "- Status of the SMEs, e.g., assets, stock prices, etc.\n",
        "- ..."
      ],
      "metadata": {
        "id": "7ntI37eacxwH"
      }
    },
    {
      "cell_type": "markdown",
      "source": [
        "Data Requirements and Sources:\n",
        "\n",
        "1. Average monthly energy prices in Europe (*Sources: Governments, related authorities, or energy market*):\n",
        "  - Columns: Gas, electricity (in different countries).\n",
        "  - Rows: Months.\n",
        "2. Service price (*Sources: The client, other companies in the same field*):\n",
        "  - Clomuns: Service prices provided by the client and other similar companies.\n",
        "  - Rows: Months.\n",
        "3. Status of the customer SMEs (*Sources: SMEs, stocking markets, related authorities*):\n",
        "  - Columns: assets, stocking prices, company sizes, number of employees, profit/loss, etc.\n",
        "  - Rows: SMEs, months.\n",
        "4. List of the former and current customer SMEs (*Sources: Client*):\n",
        "  - Columns: Whether churn, when churn, service price, contract duration, etc.\n",
        "  - Rows: SMEs."
      ],
      "metadata": {
        "id": "TSeqQWMqcmce"
      }
    },
    {
      "cell_type": "markdown",
      "source": [
        "Exploratory Analysis:\n",
        "\n",
        "- Correlation analysis (To analyze which factors might have the most influence on whether the SME churns)\n",
        "- Classification (Considering the problem is to predict whether the SME will churn or not, we can model it as a classification problem)"
      ],
      "metadata": {
        "id": "OAfBpIL2if-K"
      }
    },
    {
      "cell_type": "code",
      "source": [],
      "metadata": {
        "id": "lj9KqrZHw7eT"
      },
      "execution_count": null,
      "outputs": []
    }
  ]
}